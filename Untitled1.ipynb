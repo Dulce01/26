{
  "nbformat": 4,
  "nbformat_minor": 0,
  "metadata": {
    "colab": {
      "provenance": [],
      "authorship_tag": "ABX9TyPs3snDNVRxSnkPf6xfwONT",
      "include_colab_link": true
    },
    "kernelspec": {
      "name": "python3",
      "display_name": "Python 3"
    },
    "language_info": {
      "name": "python"
    }
  },
  "cells": [
    {
      "cell_type": "markdown",
      "metadata": {
        "id": "view-in-github",
        "colab_type": "text"
      },
      "source": [
        "<a href=\"https://colab.research.google.com/github/Dulce01/26/blob/main/Untitled1.ipynb\" target=\"_parent\"><img src=\"https://colab.research.google.com/assets/colab-badge.svg\" alt=\"Open In Colab\"/></a>"
      ]
    },
    {
      "cell_type": "code",
      "execution_count": 2,
      "metadata": {
        "colab": {
          "base_uri": "https://localhost:8080/"
        },
        "id": "RjIIyTfWGIHm",
        "outputId": "2fe472ac-ce6e-4ce6-cf69-e96c90f2dfdb"
      },
      "outputs": [
        {
          "output_type": "execute_result",
          "data": {
            "text/plain": [
              "float"
            ]
          },
          "metadata": {},
          "execution_count": 2
        }
      ],
      "source": [
        "## Tipo de datos  numeros flotantes (numeros decimales)\n",
        "num = 10.5\n",
        "type(num)\n",
        "\n"
      ]
    },
    {
      "cell_type": "code",
      "source": [
        "##Tipo de datos  numeros enteros\n",
        "num = 10\n",
        "type(num)"
      ],
      "metadata": {
        "colab": {
          "base_uri": "https://localhost:8080/"
        },
        "id": "o2C4w8gwITpX",
        "outputId": "fff7843a-50b7-4e1b-b49a-682401930a19"
      },
      "execution_count": 3,
      "outputs": [
        {
          "output_type": "execute_result",
          "data": {
            "text/plain": [
              "int"
            ]
          },
          "metadata": {},
          "execution_count": 3
        }
      ]
    },
    {
      "cell_type": "code",
      "source": [
        "##comentarios \n",
        "##imprimir mensajes\n",
        "print(\"Hola\")\n"
      ],
      "metadata": {
        "colab": {
          "base_uri": "https://localhost:8080/"
        },
        "id": "QCcdRp8_I3JU",
        "outputId": "e04496d8-7c1e-45b9-fe34-60dd3c4db189"
      },
      "execution_count": 4,
      "outputs": [
        {
          "output_type": "stream",
          "name": "stdout",
          "text": [
            "Hola\n"
          ]
        }
      ]
    },
    {
      "cell_type": "code",
      "source": [
        "##Tipo de dato string (cadena/texto)\n",
        "name = 'Samuel'\n",
        "type(name)"
      ],
      "metadata": {
        "colab": {
          "base_uri": "https://localhost:8080/"
        },
        "id": "g0fDeLZCJUd7",
        "outputId": "ae30a096-f269-487a-e05c-2cd53078c610"
      },
      "execution_count": 5,
      "outputs": [
        {
          "output_type": "execute_result",
          "data": {
            "text/plain": [
              "str"
            ]
          },
          "metadata": {},
          "execution_count": 5
        }
      ]
    },
    {
      "cell_type": "code",
      "source": [
        "##Operadores Matemáricos\n",
        "##Ejemplo: convertir grados Fahrenheit a grados Celsius\n",
        "celcius = 32.5\n",
        "Fahrenheit= (celcius * (9/5)) + 32\n",
        "print(Fahrenheit)"
      ],
      "metadata": {
        "colab": {
          "base_uri": "https://localhost:8080/"
        },
        "id": "reKNbOjeKDPb",
        "outputId": "a4ed577c-1929-4892-b0b3-cf413acd4900"
      },
      "execution_count": 9,
      "outputs": [
        {
          "output_type": "stream",
          "name": "stdout",
          "text": [
            "90.5\n"
          ]
        }
      ]
    },
    {
      "cell_type": "code",
      "source": [
        "##Funcions \n",
        "def convertidor_grados(celcius):\n",
        "  Fahrenheit= (celcius * (9/5)) + 32\n",
        "  return Fahrenheit"
      ],
      "metadata": {
        "id": "5IfWuhcVMP8n"
      },
      "execution_count": 12,
      "outputs": []
    },
    {
      "cell_type": "code",
      "source": [
        "convertidor_grados(32.5)\n"
      ],
      "metadata": {
        "colab": {
          "base_uri": "https://localhost:8080/"
        },
        "id": "XaiekzKQNRec",
        "outputId": "b6d394c9-e107-4b42-fafb-dc1d6fa6a5de"
      },
      "execution_count": 13,
      "outputs": [
        {
          "output_type": "execute_result",
          "data": {
            "text/plain": [
              "90.5"
            ]
          },
          "metadata": {},
          "execution_count": 13
        }
      ]
    },
    {
      "cell_type": "code",
      "source": [
        "##Metodo input\n",
        "\n",
        "cel = input()"
      ],
      "metadata": {
        "colab": {
          "base_uri": "https://localhost:8080/"
        },
        "id": "ql9AcqvUPs5R",
        "outputId": "287ac7aa-02a1-47c0-bb22-34f7fcb1afad"
      },
      "execution_count": 15,
      "outputs": [
        {
          "name": "stdout",
          "output_type": "stream",
          "text": [
            "12\n"
          ]
        }
      ]
    },
    {
      "cell_type": "code",
      "source": [
        "print(cel)\n",
        "type(cel)"
      ],
      "metadata": {
        "colab": {
          "base_uri": "https://localhost:8080/"
        },
        "id": "kVI806ogQAkl",
        "outputId": "2ef6ddc1-d03e-47f6-e2b0-633ebc11b724"
      },
      "execution_count": 17,
      "outputs": [
        {
          "output_type": "stream",
          "name": "stdout",
          "text": [
            "12\n"
          ]
        },
        {
          "output_type": "execute_result",
          "data": {
            "text/plain": [
              "str"
            ]
          },
          "metadata": {},
          "execution_count": 17
        }
      ]
    },
    {
      "cell_type": "code",
      "source": [
        "entrada=input('Ingresa la temperatura ')"
      ],
      "metadata": {
        "colab": {
          "base_uri": "https://localhost:8080/"
        },
        "id": "iGW_VRBbQYRb",
        "outputId": "d938d6ac-3ede-45ec-845a-d58d48b5cae6"
      },
      "execution_count": 21,
      "outputs": [
        {
          "name": "stdout",
          "output_type": "stream",
          "text": [
            "Ingresa la temperatura 12\n"
          ]
        }
      ]
    },
    {
      "cell_type": "code",
      "source": [
        "print(entrada)"
      ],
      "metadata": {
        "colab": {
          "base_uri": "https://localhost:8080/"
        },
        "id": "6vYue3N3QqEl",
        "outputId": "638207fc-6a11-4218-a341-45b38efca729"
      },
      "execution_count": 22,
      "outputs": [
        {
          "output_type": "stream",
          "name": "stdout",
          "text": [
            "12\n"
          ]
        }
      ]
    }
  ]
}